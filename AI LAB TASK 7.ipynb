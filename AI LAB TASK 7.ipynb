{
 "cells": [
  {
   "cell_type": "code",
   "execution_count": 2,
   "id": "422f1a31",
   "metadata": {},
   "outputs": [
    {
     "name": "stdout",
     "output_type": "stream",
     "text": [
      "Path found: ['A', 'B', 'D']\n"
     ]
    },
    {
     "data": {
      "text/plain": [
       "['A', 'B', 'D']"
      ]
     },
     "execution_count": 2,
     "metadata": {},
     "output_type": "execute_result"
    }
   ],
   "source": [
    "import heapq\n",
    "\n",
    "class Graph:\n",
    "    def __init__(self, adjacency_list):\n",
    "        self.adjacency_list = adjacency_list\n",
    "\n",
    "    def get_neighbors(self, v):\n",
    "        return self.adjacency_list[v]\n",
    "\n",
    "    def h(self, n):\n",
    "        H = {'A':1,'B':1,'C':1,'D':1}\n",
    "        return H[n]\n",
    "\n",
    "    def a_star_algorithm(self, start_node, stop_node):\n",
    "        open_list = []\n",
    "        heapq.heappush(open_list, (0, start_node))\n",
    "        closed_list = set()\n",
    "        g = {start_node: 0}\n",
    "        parents = {start_node: start_node}\n",
    "\n",
    "        while open_list:\n",
    "            _, n = heapq.heappop(open_list)\n",
    "            if n == stop_node:\n",
    "                reconst_path = []\n",
    "                while parents[n] != n:\n",
    "                    reconst_path.append(n)\n",
    "                    n = parents[n]\n",
    "                reconst_path.append(start_node)\n",
    "                reconst_path.reverse()\n",
    "                print('Path found: {}'.format(reconst_path))\n",
    "                return reconst_path\n",
    "\n",
    "            closed_list.add(n)\n",
    "\n",
    "            for (m, weight) in self.get_neighbors(n):\n",
    "                if m in closed_list:\n",
    "                    continue\n",
    "                tentative_g = g[n] + weight\n",
    "\n",
    "                if m not in g or tentative_g < g[m]:\n",
    "                    parents[m] = n\n",
    "                    g[m] = tentative_g\n",
    "                    f = tentative_g + self.h(m)\n",
    "                    heapq.heappush(open_list, (f, m))\n",
    "\n",
    "        print('Path does not exist!')\n",
    "        return None\n",
    "\n",
    "adjacency_list = {\n",
    "    'A': [('B', 1), ('C', 3), ('D', 7)],\n",
    "    'B': [('D', 5)],\n",
    "    'C': [('D', 12)]\n",
    "}\n",
    "\n",
    "graph1 = Graph(adjacency_list)\n",
    "graph1.a_star_algorithm('A', 'D')\n"
   ]
  },
  {
   "cell_type": "code",
   "execution_count": null,
   "id": "a447425e",
   "metadata": {},
   "outputs": [],
   "source": []
  }
 ],
 "metadata": {
  "kernelspec": {
   "display_name": "base",
   "language": "python",
   "name": "python3"
  },
  "language_info": {
   "codemirror_mode": {
    "name": "ipython",
    "version": 3
   },
   "file_extension": ".py",
   "mimetype": "text/x-python",
   "name": "python",
   "nbconvert_exporter": "python",
   "pygments_lexer": "ipython3",
   "version": "3.12.4"
  }
 },
 "nbformat": 4,
 "nbformat_minor": 5
}
