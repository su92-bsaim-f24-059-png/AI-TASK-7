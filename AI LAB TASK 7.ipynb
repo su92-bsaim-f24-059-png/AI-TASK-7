{
 "cells": [
  {
   "cell_type": "code",
   "execution_count": 1,
   "id": "d9f13e8a",
   "metadata": {},
   "outputs": [
    {
     "name": "stdout",
     "output_type": "stream",
     "text": [
      "['A', 'B', 'D']\n"
     ]
    }
   ],
   "source": [
    "import heapq\n",
    "\n",
    "class Graph:\n",
    "    def __init__(self, adj, heuristic):\n",
    "        self.adj = adj\n",
    "        self.heuristic = heuristic\n",
    "\n",
    "    def a_star(self, start, end):\n",
    "        open_list = []\n",
    "        heapq.heappush(open_list, (0, start))\n",
    "        g = {start: 0}\n",
    "        parent = {start: None}\n",
    "        closed = set()\n",
    "\n",
    "        while open_list:\n",
    "            f, node = heapq.heappop(open_list)\n",
    "\n",
    "            if node == end:\n",
    "                return self.build_path(parent, end)\n",
    "\n",
    "            closed.add(node)\n",
    "\n",
    "            for neigh, w in self.adj[node]:\n",
    "                temp_g = g[node] + w\n",
    "                if neigh in closed and temp_g >= g.get(neigh, float('inf')):\n",
    "                    continue\n",
    "                if temp_g < g.get(neigh, float('inf')):\n",
    "                    g[neigh] = temp_g\n",
    "                    parent[neigh] = node\n",
    "                    f_score = temp_g + self.heuristic[neigh]\n",
    "                    heapq.heappush(open_list, (f_score, neigh))\n",
    "        return None\n",
    "\n",
    "    def build_path(self, parent, end):\n",
    "        path = []\n",
    "        while end is not None:\n",
    "            path.append(end)\n",
    "            end = parent[end]\n",
    "        return path[::-1]\n",
    "\n",
    "\n",
    "adj = {\n",
    "    'A': [('B', 1), ('C', 3), ('D', 7)],\n",
    "    'B': [('D', 5)],\n",
    "    'C': [('D', 12)],\n",
    "    'D': []\n",
    "}\n",
    "\n",
    "heuristic = {\n",
    "    'A': 1,\n",
    "    'B': 1,\n",
    "    'C': 1,\n",
    "    'D': 0\n",
    "}\n",
    "\n",
    "g = Graph(adj, heuristic)\n",
    "print(g.a_star('A', 'D'))\n"
   ]
  }
 ],
 "metadata": {
  "kernelspec": {
   "display_name": "base",
   "language": "python",
   "name": "python3"
  },
  "language_info": {
   "codemirror_mode": {
    "name": "ipython",
    "version": 3
   },
   "file_extension": ".py",
   "mimetype": "text/x-python",
   "name": "python",
   "nbconvert_exporter": "python",
   "pygments_lexer": "ipython3",
   "version": "3.12.4"
  }
 },
 "nbformat": 4,
 "nbformat_minor": 5
}
